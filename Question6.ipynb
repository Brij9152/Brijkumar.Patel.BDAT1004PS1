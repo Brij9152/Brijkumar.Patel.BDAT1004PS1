{
 "cells": [
  {
   "cell_type": "code",
   "execution_count": 1,
   "id": "57cc3ca9",
   "metadata": {},
   "outputs": [
    {
     "name": "stdout",
     "output_type": "stream",
     "text": [
      "H is a consonant\n",
      "The word in Pig Latin is:  appyhay\n",
      "E is a vowel\n",
      "The word in Pig Latin is:  enterway\n"
     ]
    }
   ],
   "source": [
    "from cgitb import text\n",
    "def pig(input):\n",
    "\n",
    "    ay = 'ay'\n",
    "    way = 'way'\n",
    "    consonant = ['B', 'C', 'D', 'F', 'G', 'H', 'J', 'K', 'L', 'M', 'N', 'P', 'Q', 'R', 'S', 'T', 'V', 'W', 'X', 'Y', 'Z']\n",
    "    vowel = ['A', 'E', 'I', 'O', 'U']\n",
    "\n",
    "    first_letter = str(input[0])\n",
    "    first_letter = first_letter.upper()\n",
    "    if first_letter in consonant:\n",
    "        print(first_letter, 'is a consonant')\n",
    "        length_of_word = len(input)\n",
    "        remove_first_letter = input[1:length_of_word]\n",
    "        pig_latin = remove_first_letter+first_letter+ay\n",
    "        print('The word in Pig Latin is: ', pig_latin.lower())\n",
    "    elif first_letter in vowel:\n",
    "        print(first_letter, 'is a vowel')\n",
    "        pig_latin=input+way\n",
    "        print('The word in Pig Latin is: ', pig_latin.lower())\n",
    "    else:\n",
    "        print('I dont know what', first_letter, 'is')\n",
    "\n",
    "pig('happy')\n",
    "pig('Enter')"
   ]
  },
  {
   "cell_type": "code",
   "execution_count": null,
   "id": "e91e8a70",
   "metadata": {},
   "outputs": [],
   "source": []
  }
 ],
 "metadata": {
  "kernelspec": {
   "display_name": "Python 3 (ipykernel)",
   "language": "python",
   "name": "python3"
  },
  "language_info": {
   "codemirror_mode": {
    "name": "ipython",
    "version": 3
   },
   "file_extension": ".py",
   "mimetype": "text/x-python",
   "name": "python",
   "nbconvert_exporter": "python",
   "pygments_lexer": "ipython3",
   "version": "3.9.12"
  }
 },
 "nbformat": 4,
 "nbformat_minor": 5
}
