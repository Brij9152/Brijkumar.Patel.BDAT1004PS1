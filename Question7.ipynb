{
 "cells": [
  {
   "cell_type": "code",
   "execution_count": 3,
   "id": "856b0bdf",
   "metadata": {},
   "outputs": [
    {
     "name": "stdout",
     "output_type": "stream",
     "text": [
      "There are 15 patients of blood type A.\n",
      "There are 1 patients of blood type B.\n",
      "There are 13 patients of blood type AB.\n",
      "There are 15 patients of blood type O.\n",
      "There are 0 patients of blood type OO.\n"
     ]
    }
   ],
   "source": [
    "def bldcount(filename):\n",
    "    file = open(filename, \"rt\")\n",
    "    data = file.read()\n",
    "    words = data.split()\n",
    "\n",
    "    aTypeCount = words.count(\"A\")\n",
    "    bTypeCount = words.count(\"B\")\n",
    "    abTypeCount = words.count(\"AB\")\n",
    "    oTypeCount = words.count(\"O\")\n",
    "    ooTypeCount = words.count(\"OO\")\n",
    "\n",
    "    print('There are ' + str(aTypeCount) + ' patients of blood type A.')\n",
    "    print('There are ' + str(bTypeCount) + ' patients of blood type B.')\n",
    "    print('There are ' + str(abTypeCount) + ' patients of blood type AB.')\n",
    "    print('There are ' + str(oTypeCount) + ' patients of blood type O.')\n",
    "    print('There are ' + str(ooTypeCount) + ' patients of blood type OO.')\n",
    "\n",
    "bldcount(\"./bloodtype1.txt\")"
   ]
  },
  {
   "cell_type": "code",
   "execution_count": null,
   "id": "b08c128d",
   "metadata": {},
   "outputs": [],
   "source": []
  }
 ],
 "metadata": {
  "kernelspec": {
   "display_name": "Python 3 (ipykernel)",
   "language": "python",
   "name": "python3"
  },
  "language_info": {
   "codemirror_mode": {
    "name": "ipython",
    "version": 3
   },
   "file_extension": ".py",
   "mimetype": "text/x-python",
   "name": "python",
   "nbconvert_exporter": "python",
   "pygments_lexer": "ipython3",
   "version": "3.9.12"
  }
 },
 "nbformat": 4,
 "nbformat_minor": 5
}
