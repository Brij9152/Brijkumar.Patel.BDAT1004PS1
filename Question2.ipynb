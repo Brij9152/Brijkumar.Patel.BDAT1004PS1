{
 "cells": [
  {
   "cell_type": "code",
   "execution_count": 1,
   "id": "37585583",
   "metadata": {},
   "outputs": [
    {
     "name": "stdout",
     "output_type": "stream",
     "text": [
      "34\n"
     ]
    }
   ],
   "source": [
    "# How many letters are there in 'Supercalifragilisticexpialidocious'?\n",
    "\n",
    "str = \"Supercalifragilisticexpialidocious\"\n",
    "print(len(str))"
   ]
  },
  {
   "cell_type": "code",
   "execution_count": 3,
   "id": "2dcb1e4d",
   "metadata": {},
   "outputs": [
    {
     "name": "stdout",
     "output_type": "stream",
     "text": [
      "Contains\n"
     ]
    }
   ],
   "source": [
    "# Does 'Supercalifragilisticexpialidocious' contain 'ice' as a substring?\n",
    "str = \"Supercalifragilisticexpialidocious\"\n",
    "substr = \"ice\"\n",
    "\n",
    "if substr in str:\n",
    "    print(\"Contains\")\n",
    "else:\n",
    "    print(\"Not Contains\")"
   ]
  },
  {
   "cell_type": "code",
   "execution_count": 5,
   "id": "f6e4ecf1",
   "metadata": {},
   "outputs": [
    {
     "name": "stdout",
     "output_type": "stream",
     "text": [
      "Supercalifragilisticexpialidocious\n"
     ]
    }
   ],
   "source": [
    "# Which of the following words is the longest: Supercalifragilisticexpialidocious, Honorificabilitudinitatibus, or Bababadalgharaghtakamminarronnkonn?\n",
    "\n",
    "def get_max_str(lst, fallback=''):\n",
    "    if not lst:\n",
    "        return fallback\n",
    "    \n",
    "    max_str = lst[0] #list is not empty\n",
    "    \n",
    "    for x in lst:\n",
    "        if len(x) > len(max_str):\n",
    "            max_str = x\n",
    "        \n",
    "    return max_str\n",
    "\n",
    "print(get_max_str(['Supercalifragilisticexpialidocious', 'Honorificabilitudinitatibus', 'Bababadalgharaghtakamminarronnkonn']))"
   ]
  },
  {
   "cell_type": "code",
   "execution_count": 9,
   "id": "165a3ac0",
   "metadata": {},
   "outputs": [
    {
     "name": "stdout",
     "output_type": "stream",
     "text": [
      "['Bartok', 'Bellini', 'Berlioz', 'Bernstein', 'Borodin', 'Brian', 'Buxtehude']\n",
      "First Composer is  Bartok\n",
      "Last Composer is  Buxtehude\n"
     ]
    }
   ],
   "source": [
    "# Which composer comes first in the dictionary: 'Berlioz', 'Borodin', 'Brian', 'Bartok', 'Bellini', 'Buxtehude', 'Bernstein'. Which one comes last?\n",
    "\n",
    "composer = ['Berlioz', 'Borodin', 'Brian', 'Bartok', 'Bellini', 'Buxtehude', 'Bernstein']\n",
    "composer.sort()\n",
    "print(composer)\n",
    "print(\"First Composer is \" , composer[0])\n",
    "print(\"Last Composer is \", composer[len(composer)-1])"
   ]
  },
  {
   "cell_type": "code",
   "execution_count": null,
   "id": "377f9ef3",
   "metadata": {},
   "outputs": [],
   "source": []
  }
 ],
 "metadata": {
  "kernelspec": {
   "display_name": "Python 3 (ipykernel)",
   "language": "python",
   "name": "python3"
  },
  "language_info": {
   "codemirror_mode": {
    "name": "ipython",
    "version": 3
   },
   "file_extension": ".py",
   "mimetype": "text/x-python",
   "name": "python",
   "nbconvert_exporter": "python",
   "pygments_lexer": "ipython3",
   "version": "3.9.12"
  }
 },
 "nbformat": 4,
 "nbformat_minor": 5
}
