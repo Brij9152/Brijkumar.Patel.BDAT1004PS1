{
 "cells": [
  {
   "cell_type": "code",
   "execution_count": 2,
   "id": "06461305",
   "metadata": {},
   "outputs": [
    {
     "name": "stdout",
     "output_type": "stream",
     "text": [
      "[1, 1, 1, 3, 5, 1, 1, 2, 1, 0, 1, 0, 1, 2, 4, 0, 2, 2, 0, 3, 1, 0, 1, 1, 0, 0]\n",
      "[1, 0, 0, 0, 1, 0, 0, 0, 0, 0, 0, 1, 0, 0, 0, 2, 0, 0, 0, 0, 0, 0, 0, 0, 0, 0]\n"
     ]
    }
   ],
   "source": [
    "def frequencies(str):\n",
    "    charArray = []\n",
    "    str = str.lower()\n",
    "    aOcc = str.count('a')\n",
    "    bOcc = str.count('b')\n",
    "    cOcc = str.count('c')\n",
    "    dOcc = str.count('d')\n",
    "    eOcc = str.count('e')\n",
    "    fOcc = str.count('f')\n",
    "    gOcc = str.count('g')\n",
    "    hOcc = str.count('h')\n",
    "    iOcc = str.count('i')\n",
    "    jOcc = str.count('j')\n",
    "    kOcc = str.count('k')\n",
    "    lOcc = str.count('l')\n",
    "    mOcc = str.count('m')\n",
    "    nOcc = str.count('n')\n",
    "    oOcc = str.count('o')\n",
    "    pOcc = str.count('p')\n",
    "    qOcc = str.count('q')\n",
    "    rOcc = str.count('r')\n",
    "    sOcc = str.count('s')\n",
    "    tOcc = str.count('t')\n",
    "    uOcc = str.count('u')\n",
    "    vOcc = str.count('v')\n",
    "    wOcc = str.count('w')\n",
    "    xOcc = str.count('x')\n",
    "    yOcc = str.count('y')\n",
    "    zOcc = str.count('z')\n",
    "    charArray.append(aOcc)\n",
    "    charArray.append(bOcc)\n",
    "    charArray.append(cOcc)\n",
    "    charArray.append(dOcc)\n",
    "    charArray.append(eOcc)\n",
    "    charArray.append(fOcc)\n",
    "    charArray.append(gOcc)\n",
    "    charArray.append(hOcc)\n",
    "    charArray.append(iOcc)\n",
    "    charArray.append(jOcc)\n",
    "    charArray.append(kOcc)\n",
    "    charArray.append(lOcc)\n",
    "    charArray.append(mOcc)\n",
    "    charArray.append(nOcc)\n",
    "    charArray.append(oOcc)\n",
    "    charArray.append(pOcc)\n",
    "    charArray.append(qOcc)\n",
    "    charArray.append(rOcc)\n",
    "    charArray.append(sOcc)\n",
    "    charArray.append(tOcc)\n",
    "    charArray.append(uOcc)\n",
    "    charArray.append(vOcc)\n",
    "    charArray.append(wOcc)\n",
    "    charArray.append(xOcc)\n",
    "    charArray.append(yOcc)\n",
    "    charArray.append(zOcc)\n",
    "    return charArray\n",
    "print(frequencies(\"The qquick red fox got bored and went home.\"))\n",
    "\n",
    "print(frequencies(\"apple\"))"
   ]
  },
  {
   "cell_type": "code",
   "execution_count": null,
   "id": "4830d203",
   "metadata": {},
   "outputs": [],
   "source": []
  }
 ],
 "metadata": {
  "kernelspec": {
   "display_name": "Python 3 (ipykernel)",
   "language": "python",
   "name": "python3"
  },
  "language_info": {
   "codemirror_mode": {
    "name": "ipython",
    "version": 3
   },
   "file_extension": ".py",
   "mimetype": "text/x-python",
   "name": "python",
   "nbconvert_exporter": "python",
   "pygments_lexer": "ipython3",
   "version": "3.9.12"
  }
 },
 "nbformat": 4,
 "nbformat_minor": 5
}
