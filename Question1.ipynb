{
 "cells": [
  {
   "cell_type": "code",
   "execution_count": null,
   "id": "dd1bc9bb",
   "metadata": {},
   "outputs": [],
   "source": [
    "## What data type is each of the following?\n",
    "\"\"\"\n",
    "5        -> Integer\n",
    "5.0      -> Float\n",
    "5 > 1    -> Boolean\n",
    "‘5’      -> String\n",
    "5*2      -> Integer\n",
    "‘5’*2    -> String\n",
    "‘5’+’2’  -> String\n",
    "5/2      -> Float\n",
    "5%2      -> Integer\n",
    "{5,2,1}  -> Set\n",
    "5 == 3   -> Boolean\n",
    "Pi (number)-> Float\n",
    "\n",
    "\"\"\"\n"
   ]
  }
 ],
 "metadata": {
  "kernelspec": {
   "display_name": "Python 3 (ipykernel)",
   "language": "python",
   "name": "python3"
  },
  "language_info": {
   "codemirror_mode": {
    "name": "ipython",
    "version": 3
   },
   "file_extension": ".py",
   "mimetype": "text/x-python",
   "name": "python",
   "nbconvert_exporter": "python",
   "pygments_lexer": "ipython3",
   "version": "3.9.12"
  }
 },
 "nbformat": 4,
 "nbformat_minor": 5
}
