{
 "cells": [
  {
   "cell_type": "code",
   "execution_count": 4,
   "id": "cd645840",
   "metadata": {},
   "outputs": [
    {
     "name": "stdout",
     "output_type": "stream",
     "text": [
      "Enter the size of array list ::5\n",
      "Enter the element of the array list :: \n",
      "25\n",
      "47\n",
      "42\n",
      "56\n",
      "32\n",
      "Even lists:  [42, 56, 32]\n",
      "Odd lists:  [25, 47]\n"
     ]
    }
   ],
   "source": [
    "def splitoddeven(A):\n",
    "    evenlist = []\n",
    "    oddlist = []\n",
    "    for i in A:\n",
    "        if(i % 2 == 0):\n",
    "            evenlist.append(i)\n",
    "        else:\n",
    "            oddlist.append(i)\n",
    "    print(\"Even lists: \", evenlist)\n",
    "    print(\"Odd lists: \", oddlist)\n",
    "\n",
    "A = list()\n",
    "n = int(input(\"Enter the size of array list ::\"))\n",
    "print(\"Enter the element of the array list :: \")\n",
    "for i in range(int(n)):\n",
    "    k = int(input(\"\"))\n",
    "    A.append(k)\n",
    "splitoddeven(A)"
   ]
  },
  {
   "cell_type": "code",
   "execution_count": null,
   "id": "36941f40",
   "metadata": {},
   "outputs": [],
   "source": []
  }
 ],
 "metadata": {
  "kernelspec": {
   "display_name": "Python 3 (ipykernel)",
   "language": "python",
   "name": "python3"
  },
  "language_info": {
   "codemirror_mode": {
    "name": "ipython",
    "version": 3
   },
   "file_extension": ".py",
   "mimetype": "text/x-python",
   "name": "python",
   "nbconvert_exporter": "python",
   "pygments_lexer": "ipython3",
   "version": "3.9.12"
  }
 },
 "nbformat": 4,
 "nbformat_minor": 5
}
