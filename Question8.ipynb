{
 "cells": [
  {
   "cell_type": "code",
   "execution_count": 2,
   "id": "32c1617b",
   "metadata": {},
   "outputs": [
    {
     "name": "stdout",
     "output_type": "stream",
     "text": [
      "122.96544\n",
      "1.241401\n"
     ]
    }
   ],
   "source": [
    "def curconv(cur, amt):\n",
    "    with open(\"./currencies.txt\", \"r\", encoding=\"utf-8\") as a_file:\n",
    "        for line in a_file:\n",
    "            if cur in line:\n",
    "                curdetils = line.split()\n",
    "                conValue = float(curdetils[1]) * amt\n",
    "                return conValue\n",
    "print(curconv('EUR', 100))\n",
    "\n",
    "print(curconv('JPY', 100))"
   ]
  },
  {
   "cell_type": "code",
   "execution_count": null,
   "id": "a72d13ed",
   "metadata": {},
   "outputs": [],
   "source": []
  }
 ],
 "metadata": {
  "kernelspec": {
   "display_name": "Python 3 (ipykernel)",
   "language": "python",
   "name": "python3"
  },
  "language_info": {
   "codemirror_mode": {
    "name": "ipython",
    "version": 3
   },
   "file_extension": ".py",
   "mimetype": "text/x-python",
   "name": "python",
   "nbconvert_exporter": "python",
   "pygments_lexer": "ipython3",
   "version": "3.9.12"
  }
 },
 "nbformat": 4,
 "nbformat_minor": 5
}
